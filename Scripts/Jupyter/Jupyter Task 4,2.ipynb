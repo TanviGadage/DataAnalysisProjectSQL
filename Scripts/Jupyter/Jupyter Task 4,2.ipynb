{
 "cells": [
  {
   "cell_type": "markdown",
   "id": "713d1267-530a-443d-b345-91813d1b5af5",
   "metadata": {},
   "source": [
    "# Importing Libraries"
   ]
  },
  {
   "cell_type": "markdown",
   "id": "92a853c4-51f9-444b-bd0d-664ecb748851",
   "metadata": {},
   "source": [
    "# Importing Libraries"
   ]
  },
  {
   "cell_type": "code",
   "execution_count": 2,
   "id": "6a975518-03a6-45c9-b27a-3978bd38cbb5",
   "metadata": {},
   "outputs": [],
   "source": [
    "# Import libraries\n",
    "import pandas as pd\n",
    "import numpy as np\n",
    "import os"
   ]
  },
  {
   "cell_type": "markdown",
   "id": "cc2e8afd-7ae7-438a-8627-c3c689dc9b60",
   "metadata": {},
   "source": [
    "# Python data types"
   ]
  },
  {
   "cell_type": "markdown",
   "id": "62615ab5-1c65-4458-a3c4-9bf357b06545",
   "metadata": {},
   "source": [
    "# Python data types"
   ]
  },
  {
   "cell_type": "code",
   "execution_count": 4,
   "id": "686b1606-b793-4275-8a5a-9494e1c65b36",
   "metadata": {},
   "outputs": [],
   "source": [
    "a=70\n",
    "b=20\n",
    "c=10"
   ]
  },
  {
   "cell_type": "code",
   "execution_count": 6,
   "id": "8fe14c25-9a27-4ed8-94c3-c2808afc37f4",
   "metadata": {},
   "outputs": [],
   "source": [
    "result = a+b+c"
   ]
  },
  {
   "cell_type": "code",
   "execution_count": 8,
   "id": "2be3df70-a65d-4ef9-8d46-a56f2bcd0093",
   "metadata": {},
   "outputs": [
    {
     "name": "stdout",
     "output_type": "stream",
     "text": [
      " Addition=  100\n"
     ]
    }
   ],
   "source": [
    "print(\" Addition= \", result)"
   ]
  },
  {
   "cell_type": "code",
   "execution_count": 10,
   "id": "42e6ea14-a485-4001-a48c-e73eed10a6dc",
   "metadata": {},
   "outputs": [],
   "source": [
    "x=200\n",
    "y=50\n",
    "z=50\n"
   ]
  },
  {
   "cell_type": "code",
   "execution_count": 12,
   "id": "266d9d05-e4e2-4cce-aea4-e7fb42541715",
   "metadata": {},
   "outputs": [],
   "source": [
    "result = x-y-z"
   ]
  },
  {
   "cell_type": "code",
   "execution_count": 14,
   "id": "6f5b579d-aa52-4341-8f6c-e908699a8e6b",
   "metadata": {},
   "outputs": [
    {
     "name": "stdout",
     "output_type": "stream",
     "text": [
      "subtraction= 100\n"
     ]
    }
   ],
   "source": [
    "print(\"subtraction=\", result)"
   ]
  },
  {
   "cell_type": "code",
   "execution_count": 16,
   "id": "38165f72-5c08-47b6-81cd-506f06ebda94",
   "metadata": {},
   "outputs": [],
   "source": [
    "p=150\n",
    "q=30\n",
    "r=20"
   ]
  },
  {
   "cell_type": "code",
   "execution_count": 18,
   "id": "d9d4aa70-b9fa-434c-b780-9bc02cd78650",
   "metadata": {},
   "outputs": [],
   "source": [
    "result= p-q-r"
   ]
  },
  {
   "cell_type": "code",
   "execution_count": 20,
   "id": "cc6c07e1-17c3-4898-a284-94c4a889f573",
   "metadata": {},
   "outputs": [
    {
     "name": "stdout",
     "output_type": "stream",
     "text": [
      "subtraction= 100\n"
     ]
    }
   ],
   "source": [
    "print(\"subtraction=\", result)"
   ]
  },
  {
   "cell_type": "code",
   "execution_count": 22,
   "id": "93006561-bb07-4340-8713-7a413f80b6b1",
   "metadata": {},
   "outputs": [],
   "source": [
    "num1=25.5\n",
    "num2=5.5\n"
   ]
  },
  {
   "cell_type": "code",
   "execution_count": 24,
   "id": "0a39467f-cd8c-4080-b0d0-26a1d1e651d8",
   "metadata": {},
   "outputs": [],
   "source": [
    "result=num1/num2"
   ]
  },
  {
   "cell_type": "code",
   "execution_count": 28,
   "id": "af259bdc-2afa-4bd0-ab67-c3beeb9ed127",
   "metadata": {},
   "outputs": [
    {
     "name": "stdout",
     "output_type": "stream",
     "text": [
      "Result= 4.636363636363637\n"
     ]
    }
   ],
   "source": [
    "print(\"Result=\", result)"
   ]
  },
  {
   "cell_type": "markdown",
   "id": "f5e9855c-58a6-43a9-bc9a-b1c7ed7b98b6",
   "metadata": {},
   "source": [
    "#String data type"
   ]
  },
  {
   "cell_type": "code",
   "execution_count": 36,
   "id": "3887536a-4314-410d-a2e7-c60542f65012",
   "metadata": {},
   "outputs": [],
   "source": [
    "str1 = \"He\"\n",
    "str2 = \"ll\"\n",
    "str3 = \"0\""
   ]
  },
  {
   "cell_type": "code",
   "execution_count": 40,
   "id": "c617da7e-ce49-4954-86a6-19563ddb7208",
   "metadata": {},
   "outputs": [],
   "source": [
    "word= str1+str2+str3"
   ]
  },
  {
   "cell_type": "code",
   "execution_count": 42,
   "id": "784d7300-1681-4ae8-9374-f8a6defe0f31",
   "metadata": {},
   "outputs": [
    {
     "name": "stdout",
     "output_type": "stream",
     "text": [
      "constructrd word=  Hell0\n"
     ]
    }
   ],
   "source": [
    "print(\"constructrd word= \",word)"
   ]
  },
  {
   "cell_type": "code",
   "execution_count": 44,
   "id": "b24fb0e5-932d-477f-982b-be0fb547604a",
   "metadata": {},
   "outputs": [],
   "source": [
    "string1 = \" I am \"\n",
    "string2 = \"Tanvi.\""
   ]
  },
  {
   "cell_type": "code",
   "execution_count": 46,
   "id": "c26c6cb5-4eed-4c5f-acb5-d9bfd63ec275",
   "metadata": {},
   "outputs": [],
   "source": [
    "string11 = \" I live \"\n",
    "string12= \"in Germany.\""
   ]
  },
  {
   "cell_type": "code",
   "execution_count": 48,
   "id": "9870432a-7bb3-4929-ab63-8938a07c775e",
   "metadata": {},
   "outputs": [
    {
     "name": "stdout",
     "output_type": "stream",
     "text": [
      " statement=  I am Tanvi. I live in Germany.\n"
     ]
    }
   ],
   "source": [
    "print(\" statement=\", string1+string2+string11+string12)"
   ]
  },
  {
   "cell_type": "code",
   "execution_count": null,
   "id": "5f5d82d8-a7a7-4693-b1fa-45250a9ecfef",
   "metadata": {},
   "outputs": [],
   "source": []
  }
 ],
 "metadata": {
  "kernelspec": {
   "display_name": "Python 3 (ipykernel)",
   "language": "python",
   "name": "python3"
  },
  "language_info": {
   "codemirror_mode": {
    "name": "ipython",
    "version": 3
   },
   "file_extension": ".py",
   "mimetype": "text/x-python",
   "name": "python",
   "nbconvert_exporter": "python",
   "pygments_lexer": "ipython3",
   "version": "3.12.7"
  }
 },
 "nbformat": 4,
 "nbformat_minor": 5
}
